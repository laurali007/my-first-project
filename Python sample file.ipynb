{
  "nbformat": 4,
  "nbformat_minor": 0,
  "metadata": {
    "colab": {
      "provenance": [],
      "toc_visible": true,
      "authorship_tag": "ABX9TyNbGbYzME3OkV62YFMvII6O",
      "include_colab_link": true
    },
    "kernelspec": {
      "name": "python3",
      "display_name": "Python 3"
    },
    "language_info": {
      "name": "python"
    }
  },
  "cells": [
    {
      "cell_type": "markdown",
      "metadata": {
        "id": "view-in-github",
        "colab_type": "text"
      },
      "source": [
        "<a href=\"https://colab.research.google.com/github/laurali007/my-first-project/blob/main/Python%20sample%20file.ipynb\" target=\"_parent\"><img src=\"https://colab.research.google.com/assets/colab-badge.svg\" alt=\"Open In Colab\"/></a>"
      ]
    },
    {
      "cell_type": "markdown",
      "source": [
        "# Python Basics"
      ],
      "metadata": {
        "id": "4SfgjgRfG5HW"
      }
    },
    {
      "cell_type": "markdown",
      "source": [
        "## **Variables**\n",
        "\n",
        "Variables are used to **store values** that can be referenced by a name. Variables can hold many different types of values, including numbers, strings, lists, and more complex data structures like dictionaries and Pandas DataFrames.\n",
        "\n",
        "You can assign a value to a variable using the **equal sign =.**"
      ],
      "metadata": {
        "id": "kOUKUo4BHCep"
      }
    },
    {
      "cell_type": "code",
      "source": [
        "# Define a variable to hold a number\n",
        "x = 5\n",
        "\n",
        "# Define a variable to hold a string\n",
        "message = \"Hello, world!\"\n",
        "\n",
        "# Define a variable to hold a list of numbers\n",
        "numbers = [1, 2, 3, 4, 5]\n",
        "\n",
        "# Define a variable to hold a dictionary\n",
        "person = {'name': 'Alice', 'age': 30, 'email': 'alice@example.com'}\n",
        "\n",
        "# Define a variable to hold a Pandas DataFrame\n",
        "import pandas as pd\n",
        "\n",
        "data = {'name': ['Alice', 'Bob', 'Charlie'],\n",
        "        'age': [30, 25, 35],\n",
        "        'email': ['alice@example.com', 'bob@example.com', 'charlie@example.com']}\n",
        "df = pd.DataFrame(data)"
      ],
      "metadata": {
        "id": "7s8FY6sgHMQv"
      },
      "execution_count": null,
      "outputs": []
    },
    {
      "cell_type": "markdown",
      "source": [
        "## **Data types**\n",
        "\n",
        "Python has several built-in data types including **integers, floats, strings, booleans,** and **lists**."
      ],
      "metadata": {
        "id": "GdExJv4jHWOV"
      }
    },
    {
      "cell_type": "code",
      "source": [
        "# integer\n",
        "x = 5\n",
        "print(type(x)) # output: <class 'int'>\n",
        "\n",
        "# float\n",
        "y = 2.5\n",
        "print(type(y)) # output: <class 'float'>\n",
        "\n",
        "# string\n",
        "name = \"John\"\n",
        "print(type(name)) # output: <class 'str'>\n",
        "\n",
        "# boolean\n",
        "is_true = True\n",
        "print(type(is_true)) # output: <class 'bool'>\n",
        "\n",
        "# list\n",
        "numbers = [1, 2, 3, 4, 5]\n",
        "print(type(numbers)) # output: <class 'list'>\n"
      ],
      "metadata": {
        "id": "oeH8TSCDHbjn"
      },
      "execution_count": null,
      "outputs": []
    },
    {
      "cell_type": "markdown",
      "source": [
        "## **Operators**\n",
        "\n",
        "Operators are used to perform **operations on values and variables.** Python has **arithmetic operators, comparison operators**, and **logical operators**."
      ],
      "metadata": {
        "id": "bkKzgd9jHg0v"
      }
    },
    {
      "cell_type": "code",
      "source": [
        "# arithmetic operators\n",
        "x = 5\n",
        "y = 2\n",
        "print(x + y) # output: 7\n",
        "print(x - y) # output: 3\n",
        "print(x * y) # output: 10\n",
        "print(x / y) # output: 2.5\n",
        "print(x % y) # output: 1\n",
        "print(x ** y) # output: 25\n",
        "\n",
        "# comparison operators\n",
        "x = 5\n",
        "y = 2\n",
        "print(x > y) # output: True\n",
        "print(x < y) # output: False\n",
        "print(x == y) # output: False\n",
        "print(x != y) # output: True\n",
        "\n",
        "# logical operators\n",
        "x = True\n",
        "y = False\n",
        "print(x and y) # output: False\n",
        "print(x or y) # output: True\n",
        "print(not x) # output: False\n"
      ],
      "metadata": {
        "id": "E7YG3qBeHq2T"
      },
      "execution_count": null,
      "outputs": []
    },
    {
      "cell_type": "markdown",
      "source": [
        "## **Data structures**\n",
        "\n",
        "Data structures are a way to organize and store data. Some common data structures in Python include:"
      ],
      "metadata": {
        "id": "_ARtba_gdFV_"
      }
    },
    {
      "cell_type": "markdown",
      "source": [
        "### **Lists**\n",
        "\n",
        "A list is a collection of items, which can be of different types. It is an ordered and mutable sequence. Example:"
      ],
      "metadata": {
        "id": "ljERSA9udJ92"
      }
    },
    {
      "cell_type": "code",
      "source": [
        "my_list = [1, 2, 3, 'apple', 'banana']"
      ],
      "metadata": {
        "id": "50GY19GidRG_"
      },
      "execution_count": null,
      "outputs": []
    },
    {
      "cell_type": "markdown",
      "source": [
        "### **Tuple**\n",
        "\n",
        "A tuple is similar to a list, but it is immutable, meaning that it cannot be changed after it is created. Example:"
      ],
      "metadata": {
        "id": "hvehqwYLdT1X"
      }
    },
    {
      "cell_type": "code",
      "source": [
        "my_tuple = (1, 2, 3, 'apple', 'banana')\n"
      ],
      "metadata": {
        "id": "3zK6eP0TdZeY"
      },
      "execution_count": null,
      "outputs": []
    },
    {
      "cell_type": "markdown",
      "source": [
        "### **Dictionaries**\n",
        "\n",
        "A dictionary is a collection of key-value pairs. The keys must be unique and immutable, while the values can be of any type. Example:"
      ],
      "metadata": {
        "id": "ouTsEo7rdcIR"
      }
    },
    {
      "cell_type": "code",
      "source": [
        "my_dict = {'apple': 2.5, 'banana': 1.5, 'orange': 3.0}\n"
      ],
      "metadata": {
        "id": "Pb4IsQa_dgfN"
      },
      "execution_count": null,
      "outputs": []
    },
    {
      "cell_type": "markdown",
      "source": [
        "### **Sets**\n",
        "\n",
        "A set is a collection of unique items, with no duplicates. Example:"
      ],
      "metadata": {
        "id": "EtLmP1TqdiJW"
      }
    },
    {
      "cell_type": "code",
      "source": [
        "my_set = {1, 2, 3, 4, 5}\n"
      ],
      "metadata": {
        "id": "ZqzP-ckPdqk1"
      },
      "execution_count": null,
      "outputs": []
    },
    {
      "cell_type": "markdown",
      "source": [
        "## **Control structures**\n",
        "\n",
        "Control structures are used to control the flow of your program. Some common control structures in Python include:"
      ],
      "metadata": {
        "id": "TMUlLk_OcxQi"
      }
    },
    {
      "cell_type": "markdown",
      "source": [
        "### **Conditional statements**\n",
        "\n",
        "Conditional statements are used to execute different actions depending on whether a certain **condition is true or false**. In Python, the **if-else** statement is used for this purpose."
      ],
      "metadata": {
        "id": "bN8EquCHHs4z"
      }
    },
    {
      "cell_type": "code",
      "source": [
        "# if-else statement\n",
        "x = 5\n",
        "if x > 2:\n",
        "    print(\"x is greater than 2\")\n",
        "else:\n",
        "    print(\"x is less than or equal to 2\")\n"
      ],
      "metadata": {
        "id": "ZlW94pYAH0gR"
      },
      "execution_count": null,
      "outputs": []
    },
    {
      "cell_type": "markdown",
      "source": [
        "### **Loops**\n",
        "\n",
        "Loops are used to execute a block of code **multiple times**. In Python, there are two types of loops: the **for loop** and the **while loop**."
      ],
      "metadata": {
        "id": "va3jUwXtH2Ue"
      }
    },
    {
      "cell_type": "code",
      "source": [
        "# for loop\n",
        "for i in range(5):\n",
        "    print(i) # output: 0 1 2 3 4\n",
        "\n",
        "# while loop\n",
        "i = 0\n",
        "while i < 5:\n",
        "    print(i) # output: 0 1 2 3 4\n",
        "    i += 1\n"
      ],
      "metadata": {
        "id": "JKaj_o8RH79N"
      },
      "execution_count": null,
      "outputs": []
    },
    {
      "cell_type": "markdown",
      "source": [
        "### **Functions**\n",
        "\n",
        "Functions are used to **group a set of statements together to perform a specific task**. In Python, you can define your own functions using the **def** keyword.They can take **parameters** as input and return values as output."
      ],
      "metadata": {
        "id": "sg71xcA0H97W"
      }
    },
    {
      "cell_type": "code",
      "source": [
        "# define a function\n",
        "def greet(name):\n",
        "    print(\"Hello, \" + name + \"!\")\n",
        "\n",
        "# call the function\n",
        "greet(\"John\") # output: Hello, John!\n"
      ],
      "metadata": {
        "id": "K-td_1-WIDn4"
      },
      "execution_count": null,
      "outputs": []
    },
    {
      "cell_type": "markdown",
      "source": [
        "## *Python basics - Turtle example*"
      ],
      "metadata": {
        "id": "iJsn_X0RQ5DN"
      }
    },
    {
      "cell_type": "code",
      "source": [
        "import turtle\n",
        "\n",
        "# Create a turtle object\n",
        "t = turtle.Turtle()\n",
        "t.goto(-100, 0)\n",
        "\n",
        "# Define a function that draws a triangle of a given size and color\n",
        "def draw_triangle(triangle_size, color):\n",
        "    t.fillcolor(color)\n",
        "    t.begin_fill()\n",
        "    for i in range(3):\n",
        "        t.forward(triangle_size)\n",
        "        t.left(120)\n",
        "    t.end_fill()\n",
        "\n",
        "# Define variables for the size and colour of the triangle\n",
        "triangle_size = 100\n",
        "colors = [\"red\", \"green\"]\n",
        "\n",
        "# Use a loop to draw a series of triangles with increasing size and alternating colors\n",
        "for i in range(1, 4):\n",
        "    if i % 2 == 0:\n",
        "        draw_triangle(triangle_size*i, colors[0])\n",
        "    else:\n",
        "        draw_triangle(triangle_size*i, colors[1])\n"
      ],
      "metadata": {
        "id": "191ilXV5Q-Kf"
      },
      "execution_count": null,
      "outputs": []
    },
    {
      "cell_type": "markdown",
      "source": [
        "# Python building blocks"
      ],
      "metadata": {
        "id": "OmWVuWsCyw0M"
      }
    },
    {
      "cell_type": "markdown",
      "source": [
        "## **Libraries**\n",
        "\n",
        "A library is a collection of modules that can be used in Python programs. A library can be imported using **import** keyword."
      ],
      "metadata": {
        "id": "NRa9IAKjzzFd"
      }
    },
    {
      "cell_type": "code",
      "source": [
        "# Turtle library - used for drawing shapes\n",
        "\n",
        "import turtle\n"
      ],
      "metadata": {
        "id": "RQBiVxDQz7bV"
      },
      "execution_count": null,
      "outputs": []
    },
    {
      "cell_type": "markdown",
      "source": [
        "## **Modules**\n",
        "\n",
        "A module is a file containing Python code that defines **functions**, **classes**, and **variables**.\n",
        "\n",
        "We can import modules using the **import** keyword, and we can access the code inside the module using **dot notation**."
      ],
      "metadata": {
        "id": "w1vSOfth0e7k"
      }
    },
    {
      "cell_type": "code",
      "source": [
        "# In the turtle library, we can import individual modules such as Turtle:\n",
        "\n",
        "from turtle import Turtle\n",
        "\n",
        "t = Turtle()\n"
      ],
      "metadata": {
        "id": "7JmgEjIf0ekk"
      },
      "execution_count": null,
      "outputs": []
    },
    {
      "cell_type": "markdown",
      "source": [
        "## **Classes & Objects**\n",
        "\n",
        "A class defines a set of properties (also known as attributes) and methods that objects of that class will have. Classes help in creating reusable code.\n",
        "\n",
        "**\"__init__\"** method is used when we want to initialize the attributes of an object when it is created (i.e. class has attributes).\n",
        "\n",
        "Once we have defined a class, we can create **objects** (also known as instances) of that class by calling the class constructor.\n",
        "\n",
        "**Objects** are instances of a class that encapsulate data and behaviour. They are created using the class constructor, and their **properties** and **methods** can be accessed using **dot notation**."
      ],
      "metadata": {
        "id": "jHCi8x873EtG"
      }
    },
    {
      "cell_type": "code",
      "source": [
        "# To define a class in Python, you use the class keyword, followed by the name of the class and a colon.\n",
        "# Here's a simple example of a class definition:\n",
        "\n",
        "class Square:\n",
        "    def __init__(self, distance): #__init__ method is called when an object of the Square class is created, and it takes one parameter (size) and initializes the object's size property with it\n",
        "        self.distance = distance # distance property\n",
        "\n",
        "    def draw(self): # define draw method\n",
        "        t.forward(self.distance)\n",
        "        t.left(90)\n",
        "        t.forward(self.distance)\n",
        "        t.left(90)\n",
        "        t.forward(self.distance)\n",
        "        t.left(90)\n",
        "        t.forward(self.distance)\n",
        "\n",
        "square = Square(100) # create a Square object with a distance of 100\n",
        "square.draw() # use the object to draw a square\n",
        "\n"
      ],
      "metadata": {
        "id": "l-3F8P1a4OBj"
      },
      "execution_count": null,
      "outputs": []
    },
    {
      "cell_type": "markdown",
      "source": [
        "## **Functions**\n",
        "\n",
        "Functions are used to **group a set of statements together to perform a specific task**. In Python, you can define your own functions using the **def** keyword.They can take **parameters** as input and return values as output."
      ],
      "metadata": {
        "id": "Kz0rwhv-6XJ0"
      }
    },
    {
      "cell_type": "code",
      "source": [
        "# Defining a function to draw a square\n",
        "\n",
        "def draw_square(distance): # function takes distance parameter\n",
        "    t.forward(distance)\n",
        "    t.left(90)\n",
        "    t.forward(distance)\n",
        "    t.left(90)\n",
        "    t.forward(distance)\n",
        "    t.left(90)\n",
        "    t.forward(distance)\n",
        "\n",
        "draw_square(100) # calling the function with a distance of 90"
      ],
      "metadata": {
        "id": "85X3IUqV6gXi"
      },
      "execution_count": null,
      "outputs": []
    },
    {
      "cell_type": "markdown",
      "source": [
        "## **Methods**\n",
        "\n",
        "Methods are **functions** that are **associated with objects**. They are **defined inside classes** and can access the object's properties."
      ],
      "metadata": {
        "id": "fdp34EPs70eP"
      }
    },
    {
      "cell_type": "code",
      "source": [
        "# Using the turtle library's penup and pendown methods to draw a square:\n",
        "\n",
        "t.penup() #  lifts the pen off the drawing surface, which means that the turtle will not leave a trail when it moves\n",
        "t.goto(0, 0) # moves the turtle to the position (0, 0) on the drawing surface\n",
        "t.pendown() # lowers the pen onto the drawing surface, which means that the turtle will leave a trail when it moves\n",
        "\n",
        "for i in range(4): # begins a loop that will execute the indented code four times\n",
        "    t.forward(100) # moves the turtle forward by 100 units, leaving a trail if the pen is down\n",
        "    t.right(90) # turns the turtle right by 90 degrees\n"
      ],
      "metadata": {
        "id": "uzRwIZLx8DVR"
      },
      "execution_count": null,
      "outputs": []
    },
    {
      "cell_type": "markdown",
      "source": [
        "## **Schematic representation**\n",
        "\n",
        "A class is a blueprint for creating objects, which are instances of the class. An object has its own set of attributes and methods, which are defined by the class. A method is a function that is associated with an object, and can access and modify the object's attributes.\n",
        "\n",
        "Functions can be defined at the library level, the module level, or the class level. Library-level functions are functions that are not associated with any particular module or class, and can be used by any part of the code that has access to the library. Module-level functions are functions that are defined within a module, and can be used within that module or by any other module that imports it. Class-level functions are functions that are defined within a class, and can only be called by instances of that class.\n",
        "\n",
        "In summary, libraries provide a collection of modules, modules contain classes, objects, and functions, classes define the structure and behavior of objects, and functions provide reusable blocks of code that can be used by different parts of the codebase.\n",
        "\n",
        "*In this schematic, a Python library contains one or more modules, which in turn contain classes, objects, and functions. A module is a file containing Python code, and it can contain multiple classes, functions, and variables.*"
      ],
      "metadata": {
        "id": "wz7ZmZxLau4z"
      }
    },
    {
      "cell_type": "code",
      "source": [
        "Python Library\n",
        "  |\n",
        "  |-- Module 1\n",
        "  |     |\n",
        "  |     |-- Class 1\n",
        "  |     |     |\n",
        "  |     |     |-- Object 1\n",
        "  |     |     |-- Object 2\n",
        "  |     |\n",
        "  |     |-- Class 2\n",
        "  |     |     |\n",
        "  |     |     |-- Object 3\n",
        "  |     |     |-- Object 4\n",
        "  |     |\n",
        "  |     |-- Function 1\n",
        "  |     |-- Function 2\n",
        "  |\n",
        "  |-- Module 2\n",
        "  |     |\n",
        "  |     |-- Class 3\n",
        "  |     |     |\n",
        "  |     |     |-- Object 5\n",
        "  |     |     |-- Object 6\n",
        "  |     |\n",
        "  |     |-- Class 4\n",
        "  |     |     |\n",
        "  |     |     |-- Object 7\n",
        "  |     |     |-- Object 8\n",
        "  |     |\n",
        "  |     |-- Function 3\n",
        "  |     |-- Function 4\n",
        "  |\n",
        "  |-- Function 5\n",
        "  |-- Function 6\n"
      ],
      "metadata": {
        "id": "9woUUgNTa8xN"
      },
      "execution_count": null,
      "outputs": []
    },
    {
      "cell_type": "markdown",
      "source": [
        "# Turtle Cheat Sheet\n",
        "\n",
        "Common commands from the turtle library:"
      ],
      "metadata": {
        "id": "aHcm6Isz_7PV"
      }
    },
    {
      "cell_type": "code",
      "source": [
        "# Creating turtle\n",
        "\n",
        "import turtle # Import turtle library\n",
        "t = turtle.Turtle()  # Create a new turtle object\n",
        "\n",
        "# Pen control\n",
        "\n",
        "t.penup()  # Lift the pen off the drawing surface\n",
        "t.pendown()  # Lower the pen onto the drawing surface\n",
        "t.pensize(3)  # Set the width of the pen to 3 units\n",
        "t.speed(5)  # Set the turtle's speed to 5 (on a scale from 0-10, 0 = fastest)\n",
        "\n",
        "# Drawing\n",
        "\n",
        "t.forward(100)  # Move the turtle forward by 100 units\n",
        "t.backward(50)  # Move the turtle backward by 50 units\n",
        "t.right(90)  # Turn the turtle right by 90 degrees\n",
        "t.left(45)  # Turn the turtle left by 45 degrees\n",
        "t.circle(50)  # Draw a circle with a radius of 50 units\n",
        "t.dot(20, \"red\")  # Draw a red dot with a diameter of 20 units\n",
        "t.clear()  # Clear the drawing surface, but leave the turtle in its current position and orientation\n",
        "\n",
        "# Colour\n",
        "\n",
        "t.color(\"blue\")  # Set the pen color to blue\n",
        "t.fillcolor(\"green\")  # Set the fill color to green\n",
        "t.begin_fill()  # Begin filling the area enclosed by the turtle's movements\n",
        "t.end_fill()  # Stop filling the area enclosed by the turtle's movements\n",
        "\n",
        "# Screen\n",
        "\n",
        "s = turtle.Screen() # Create a screen object to change its properties, e.g. colour\n",
        "s.bgcolor(\"black\") # Change screen colour to black\n",
        "\n",
        "# Movement\n",
        "\n",
        "t.pos() # Check turtle's coordinates\n",
        "t.goto(100, 100)  # Move the turtle to the position (100, 100)\n",
        "t.setposition(0, 0)  # Move the turtle to the position (0, 0)"
      ],
      "metadata": {
        "id": "8GoXC67BBNDU"
      },
      "execution_count": null,
      "outputs": []
    },
    {
      "cell_type": "markdown",
      "source": [
        "## **For loop example**\n",
        "\n",
        "The for loop is used to **iterate over a sequence of elements**, such as a list or range of numbers.\n",
        "\n",
        "The **range()** function returns a sequence of numbers, starting from 0 by default, and increments by 1 by default. The range() function can take one, two, or three arguments, where the first argument specifies the starting value, the second argument specifies the ending value (exclusive), and the third argument specifies the step value."
      ],
      "metadata": {
        "id": "EHMIukN1Bgjt"
      }
    },
    {
      "cell_type": "code",
      "source": [
        "# Example code with for loop\n",
        "\n",
        "import turtle\n",
        "\n",
        "# Create turtle object and set up screen\n",
        "t = turtle.Turtle() # create turtle object\n",
        "screen = turtle.Screen() # create screen object\n",
        "screen.bgcolor(\"black\") # set screen colour to black\n",
        "\n",
        "# Set up turtle attributes\n",
        "t.speed(0) # change speed to the fastest setting\n",
        "t.pensize(2) # set pen size to 2\n",
        "\n",
        "# Set up colors to change the turtle's colour for each iteration of the loop\n",
        "colors = [\"red\", \"orange\", \"yellow\", \"green\", \"blue\", \"purple\"]\n",
        "\n",
        "# Loop to create spiral shape\n",
        "for i in range(100):\n",
        "    t.color(colors[i % len(colors)]) # modulo operator % is used to cycle through the colors repeatedly\n",
        "    t.forward(i * 5) # moves the turtle forward by an increasing amount with each iteration\n",
        "    t.right(144) # turns the turtle by a fixed angle of 144 degrees with each iteration\n",
        "\n"
      ],
      "metadata": {
        "id": "YurjEhYoBWmF"
      },
      "execution_count": null,
      "outputs": []
    },
    {
      "cell_type": "markdown",
      "source": [
        "## **While loop example**\n",
        "\n",
        "'While' is a loop statement that executes a block of code repeatedly **until a certain condition is met**.\n",
        "\n",
        "The condition is a **Boolean expression** that determines whether the loop should continue or stop. If the condition is True, the code block will be executed repeatedly until the condition becomes False."
      ],
      "metadata": {
        "id": "NpBgXYgLE2wo"
      }
    },
    {
      "cell_type": "code",
      "source": [
        "# Example code with while loop\n",
        "\n",
        "import turtle\n",
        "\n",
        "# Create turtle object and set up screen\n",
        "t = turtle.Turtle() # create turtle object\n",
        "screen = turtle.Screen() # create screen object\n",
        "screen.bgcolor(\"black\") # set screen colour to black\n",
        "\n",
        "# Set up turtle attributes\n",
        "t.speed(0) # change speed to the fastest setting\n",
        "t.pensize(2) # set pen size to 2\n",
        "\n",
        "# Set up colors to change the turtle's colour for each iteration of the loop\n",
        "colors = [\"red\", \"orange\", \"yellow\", \"green\", \"blue\", \"purple\"]\n",
        "\n",
        "# Loop to create spiral shape\n",
        "i = 0 # set counter to the starting point\n",
        "while i <=100:\t# set condition\n",
        "  t.color(colors[i % len(colors)]) # modulo operator % is used to cycle through the colors repeatedly\n",
        "  t.forward(i * 5) # moves the turtle forward by an increasing amount with each iteration\n",
        "  t.right(144) # turns the turtle by a fixed angle of 144 degrees with each iterationion\n",
        "  i = i + 1 # increment the counter"
      ],
      "metadata": {
        "id": "8jxBRZn3FEvZ"
      },
      "execution_count": null,
      "outputs": []
    }
  ]
}